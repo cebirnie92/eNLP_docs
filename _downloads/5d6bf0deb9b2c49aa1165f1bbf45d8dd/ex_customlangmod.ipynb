{
  "cells": [
    {
      "cell_type": "code",
      "execution_count": null,
      "metadata": {
        "collapsed": false
      },
      "outputs": [],
      "source": [
        "%matplotlib inline"
      ]
    },
    {
      "cell_type": "markdown",
      "metadata": {},
      "source": [
        "\nCustom Spacy Language Models\n============================\nThe following example illustrates how to generate word vectors from a corpus, save them to file and also generate\na custom spacy language model with them.\n"
      ]
    },
    {
      "cell_type": "code",
      "execution_count": null,
      "metadata": {
        "collapsed": false
      },
      "outputs": [],
      "source": [
        "import enlp.language_models as lm\nimport enlp.understanding.vectors as vts\nimport enlp.processing.stdtools as stdt"
      ]
    },
    {
      "cell_type": "markdown",
      "metadata": {},
      "source": [
        "Load previously computed word vectors\n\n"
      ]
    },
    {
      "cell_type": "code",
      "execution_count": null,
      "metadata": {
        "collapsed": false
      },
      "outputs": [],
      "source": [
        "wvs = vts.load_vectors('example_data/ex_wordvecs.bin', binary=True)"
      ]
    },
    {
      "cell_type": "markdown",
      "metadata": {},
      "source": [
        "Create new language models with word vectors included\n\n"
      ]
    },
    {
      "cell_type": "code",
      "execution_count": null,
      "metadata": {
        "collapsed": false
      },
      "outputs": [],
      "source": [
        "lang_mod = lm.add_vectors_to_langmod(wvs, 'en')"
      ]
    },
    {
      "cell_type": "markdown",
      "metadata": {},
      "source": [
        "Proof that the new model works same as any other spacy language model\n\n"
      ]
    },
    {
      "cell_type": "code",
      "execution_count": null,
      "metadata": {
        "collapsed": false
      },
      "outputs": [],
      "source": [
        "text = 'This is a test to check model is not crazy'\n\nprint ('Original: ', text)\nprint ('Processed: ', stdt.spacy_lemmatize(lang_mod, text))"
      ]
    },
    {
      "cell_type": "markdown",
      "metadata": {},
      "source": [
        "Save new language model to be used in future work\n\n"
      ]
    },
    {
      "cell_type": "code",
      "execution_count": null,
      "metadata": {
        "collapsed": false
      },
      "outputs": [],
      "source": [
        "mod_path = 'example_data/tmp_lang_mod/'\nlm.save_spacy_model(lang_mod, mod_path)"
      ]
    },
    {
      "cell_type": "markdown",
      "metadata": {},
      "source": [
        "To load this language model in future you can use:\n\n"
      ]
    },
    {
      "cell_type": "code",
      "execution_count": null,
      "metadata": {
        "collapsed": false
      },
      "outputs": [],
      "source": [
        "import spacy\nspacy.load(mod_path)"
      ]
    }
  ],
  "metadata": {
    "kernelspec": {
      "display_name": "Python 3",
      "language": "python",
      "name": "python3"
    },
    "language_info": {
      "codemirror_mode": {
        "name": "ipython",
        "version": 3
      },
      "file_extension": ".py",
      "mimetype": "text/x-python",
      "name": "python",
      "nbconvert_exporter": "python",
      "pygments_lexer": "ipython3",
      "version": "3.7.5"
    }
  },
  "nbformat": 4,
  "nbformat_minor": 0
}