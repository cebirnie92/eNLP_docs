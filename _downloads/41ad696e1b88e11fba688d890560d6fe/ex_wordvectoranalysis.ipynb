{
  "cells": [
    {
      "cell_type": "code",
      "execution_count": null,
      "metadata": {
        "collapsed": false
      },
      "outputs": [],
      "source": [
        "%matplotlib inline"
      ]
    },
    {
      "cell_type": "markdown",
      "metadata": {},
      "source": [
        "\nWord Vector Analysis\n====================\nThe following example illustrates how to find most similar words, simple word vector maths and how to\nvisualise similar words in a compressed vector space.\n"
      ]
    },
    {
      "cell_type": "code",
      "execution_count": null,
      "metadata": {
        "collapsed": false
      },
      "outputs": [],
      "source": [
        "import matplotlib.pyplot as plt\nplt.close('all') # very important for read the docs to avoid it crashing due to memory\n\nimport enlp.understanding.vectors as vts\nfrom enlp.visualisation.word_vectors import similar_words"
      ]
    },
    {
      "cell_type": "markdown",
      "metadata": {},
      "source": [
        "Download vectors - this can be swapped with loading your own vectors\n\n"
      ]
    },
    {
      "cell_type": "code",
      "execution_count": null,
      "metadata": {
        "collapsed": false
      },
      "outputs": [],
      "source": [
        "import gensim.downloader as api\n\nmodel = api.load(\"word2vec-google-news-300\")  # download the model and return as object ready for use\nwvs = model.wv #load the vectors from the model"
      ]
    },
    {
      "cell_type": "markdown",
      "metadata": {},
      "source": [
        "Most similar word to happy\n\n"
      ]
    },
    {
      "cell_type": "code",
      "execution_count": null,
      "metadata": {
        "collapsed": false
      },
      "outputs": [],
      "source": [
        "print (vts.similar_words(wvs, 'happy', n=5))"
      ]
    },
    {
      "cell_type": "markdown",
      "metadata": {},
      "source": [
        "Most similar word to zebra\n\n"
      ]
    },
    {
      "cell_type": "code",
      "execution_count": null,
      "metadata": {
        "collapsed": false
      },
      "outputs": [],
      "source": [
        "print (vts.similar_words(wvs, 'zebra', n=5))"
      ]
    },
    {
      "cell_type": "markdown",
      "metadata": {},
      "source": [
        "Vector Maths - Past tense of walk?\n\n"
      ]
    },
    {
      "cell_type": "code",
      "execution_count": null,
      "metadata": {
        "collapsed": false
      },
      "outputs": [],
      "source": [
        "# ran - run + walk\npwords = ['ran', 'walk']\nnwords = ['run']\nprint (vts.vector_maths(wvs, pwords=pwords, nwords=nwords))"
      ]
    },
    {
      "cell_type": "markdown",
      "metadata": {},
      "source": [
        "Vector Maths - Female equivalent of king?\n\n"
      ]
    },
    {
      "cell_type": "code",
      "execution_count": null,
      "metadata": {
        "collapsed": false
      },
      "outputs": [],
      "source": [
        "# Woman - Man + King = ???\npwords = ['woman', 'king']\nnwords = ['man']\nprint (vts.vector_maths(wvs, pwords=pwords, nwords=nwords))"
      ]
    },
    {
      "cell_type": "markdown",
      "metadata": {},
      "source": [
        "Vector Maths - Country of which Edinburgh is the capital?\n\n"
      ]
    },
    {
      "cell_type": "code",
      "execution_count": null,
      "metadata": {
        "collapsed": false
      },
      "outputs": [],
      "source": [
        "# Norway - Oslo + Edinburgh\npwords = ['Norway', 'Edinburgh']\nnwords = ['Oslo']\nprint (vts.vector_maths(wvs, pwords=pwords, nwords=nwords))"
      ]
    },
    {
      "cell_type": "markdown",
      "metadata": {},
      "source": [
        "Visualising vectors\n\n"
      ]
    },
    {
      "cell_type": "code",
      "execution_count": null,
      "metadata": {
        "collapsed": false
      },
      "outputs": [],
      "source": [
        "fig, (ax1, ax2) = plt.subplots(1, 2, figsize=(14, 7))\nsimilar_words(wvs, 'pizza', ax=ax1)\nax1.set_title('Most similar words to pizza')\nsimilar_words(wvs, 'pasta', ax=ax2)\nax2.set_title('Most similar words to pasta')\nplt.tight_layout()"
      ]
    }
  ],
  "metadata": {
    "kernelspec": {
      "display_name": "Python 3",
      "language": "python",
      "name": "python3"
    },
    "language_info": {
      "codemirror_mode": {
        "name": "ipython",
        "version": 3
      },
      "file_extension": ".py",
      "mimetype": "text/x-python",
      "name": "python",
      "nbconvert_exporter": "python",
      "pygments_lexer": "ipython3",
      "version": "3.7.5"
    }
  },
  "nbformat": 4,
  "nbformat_minor": 0
}