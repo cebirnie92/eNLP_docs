{
  "cells": [
    {
      "cell_type": "code",
      "execution_count": null,
      "metadata": {
        "collapsed": false
      },
      "outputs": [],
      "source": [
        "%matplotlib inline"
      ]
    },
    {
      "cell_type": "markdown",
      "metadata": {},
      "source": [
        "\nVisualising Word Counts\n=======================\nThe following example takes a raw extract of norwegian texts, removes stopwords and lemmatizes prior to analysing the\ndistribution of the words in the text.\n"
      ]
    },
    {
      "cell_type": "code",
      "execution_count": null,
      "metadata": {
        "collapsed": false
      },
      "outputs": [],
      "source": [
        "import enlp.visualisation.freq_distribution as viz\nimport enlp.understanding.distributions as dists\nimport enlp.processing.stdtools as nlp\nimport spacy\nimport matplotlib.pyplot as plt\n\nplt.close('all') # very important for read the docs to avoid it crashing due to memory"
      ]
    },
    {
      "cell_type": "markdown",
      "metadata": {},
      "source": [
        "Load Spacy's Norwegian language model and the example text\n\n"
      ]
    },
    {
      "cell_type": "code",
      "execution_count": null,
      "metadata": {
        "collapsed": false
      },
      "outputs": [],
      "source": [
        "langmodel = spacy.load('nb_dep_ud_sm')\nwith open(\"example_data/no_den_stygge_andungen.txt\", \"r\") as file:\n    text=file.read()"
      ]
    },
    {
      "cell_type": "markdown",
      "metadata": {},
      "source": [
        "Make  strings into list of tokens and count them\n\n"
      ]
    },
    {
      "cell_type": "code",
      "execution_count": null,
      "metadata": {
        "collapsed": false
      },
      "outputs": [],
      "source": [
        "word_list = nlp.tokenise(langmodel,text)\ncounts = dists.freq_dist(word_list)"
      ]
    },
    {
      "cell_type": "markdown",
      "metadata": {},
      "source": [
        "Visualise\n\n"
      ]
    },
    {
      "cell_type": "code",
      "execution_count": null,
      "metadata": {
        "collapsed": false
      },
      "outputs": [],
      "source": [
        "fig,(ax1,ax2) = plt.subplots(1, 2, figsize=(10, 5))\nviz.dist_plot_detailed(counts[:25], ax=ax1)  # Detailed distribution of top 25 tokens\nviz.dist_plot(counts, log=True, ax=ax2)  # Full distribution of corpus\nplt.show()"
      ]
    }
  ],
  "metadata": {
    "kernelspec": {
      "display_name": "Python 3",
      "language": "python",
      "name": "python3"
    },
    "language_info": {
      "codemirror_mode": {
        "name": "ipython",
        "version": 3
      },
      "file_extension": ".py",
      "mimetype": "text/x-python",
      "name": "python",
      "nbconvert_exporter": "python",
      "pygments_lexer": "ipython3",
      "version": "3.7.5"
    }
  },
  "nbformat": 4,
  "nbformat_minor": 0
}